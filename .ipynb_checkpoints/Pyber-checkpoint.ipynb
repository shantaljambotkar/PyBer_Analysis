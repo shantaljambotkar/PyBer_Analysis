{
 "cells": [
  {
   "cell_type": "code",
   "execution_count": 1,
   "id": "441a008d",
   "metadata": {},
   "outputs": [],
   "source": [
    "%matplotlib inline\n",
    "\n",
    "#Dependencies\n",
    "\n",
    "import matplotlib.pyplot as plt\n",
    "import numpy as np\n",
    "import pandas as pd\n",
    "import statistics\n",
    "\n",
    "#Load CSV\n",
    "\n",
    "pyber_city_data_df = pd.read_csv(\"Resources/city_data.csv\")\n",
    "pyber_ride_data_df = pd.read_csv(\"Resources/ride_data.csv\")"
   ]
  },
  {
   "cell_type": "code",
   "execution_count": 3,
   "id": "58bb68e0",
   "metadata": {},
   "outputs": [],
   "source": [
    "#Merge your DataFrames."
   ]
  },
  {
   "cell_type": "code",
   "execution_count": 4,
   "id": "686fb893",
   "metadata": {},
   "outputs": [],
   "source": [
    "# Create a bubble chart that showcases the average fare versus the total number of rides with bubble size \n",
    "# based on the total number of drivers for each city type, including urban, suburban, and rural.\n",
    "\n"
   ]
  },
  {
   "cell_type": "code",
   "execution_count": 5,
   "id": "6c23205c",
   "metadata": {},
   "outputs": [],
   "source": [
    "# Determine the mean, median, and mode for the following:\n",
    "# The total number of rides for each city type.\n",
    "# The average fares for each city type.\n",
    "# The total number of drivers for each city type."
   ]
  },
  {
   "cell_type": "code",
   "execution_count": 6,
   "id": "fb95a9b2",
   "metadata": {},
   "outputs": [],
   "source": [
    "# Create box-and-whisker plots that visualize each of the following to determine if there are any outliers:\n",
    "# The number of rides for each city type.\n",
    "# The fares for each city type.\n",
    "# The number of drivers for each city type."
   ]
  },
  {
   "cell_type": "code",
   "execution_count": null,
   "id": "5d8996d4",
   "metadata": {},
   "outputs": [],
   "source": [
    "# Create a pie chart that visualizes each of the following data for each city type:\n",
    "# The percent of total fares.\n",
    "# The percent of total rides.\n",
    "# The percent of total drivers."
   ]
  }
 ],
 "metadata": {
  "kernelspec": {
   "display_name": "Python 3",
   "language": "python",
   "name": "python3"
  },
  "language_info": {
   "codemirror_mode": {
    "name": "ipython",
    "version": 3
   },
   "file_extension": ".py",
   "mimetype": "text/x-python",
   "name": "python",
   "nbconvert_exporter": "python",
   "pygments_lexer": "ipython3",
   "version": "3.8.8"
  }
 },
 "nbformat": 4,
 "nbformat_minor": 5
}
